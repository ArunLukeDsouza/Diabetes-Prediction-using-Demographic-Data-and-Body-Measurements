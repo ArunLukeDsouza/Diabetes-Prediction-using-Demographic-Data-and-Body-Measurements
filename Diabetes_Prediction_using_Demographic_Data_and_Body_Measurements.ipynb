{
  "nbformat": 4,
  "nbformat_minor": 0,
  "metadata": {
    "colab": {
      "name": "Diabetes Prediction using Demographic Data and Body Measurements.ipynb",
      "provenance": [],
      "collapsed_sections": []
    },
    "kernelspec": {
      "display_name": "Python 3",
      "language": "python",
      "name": "python3"
    },
    "language_info": {
      "codemirror_mode": {
        "name": "ipython",
        "version": 3
      },
      "file_extension": ".py",
      "mimetype": "text/x-python",
      "name": "python",
      "nbconvert_exporter": "python",
      "pygments_lexer": "ipython3",
      "version": "3.9.1"
    }
  },
  "cells": [
    {
      "cell_type": "markdown",
      "metadata": {
        "id": "Nz65OT1mnf0L"
      },
      "source": [
        "# Diabetes Prediction using Demographic Data and Body Measurements\n",
        "\n",
        "## About our Data\n",
        "\n",
        "The [National Health and Nutrition Examination Survey (NHANES)](https://www.cdc.gov/Nchs/Nhanes/about_nhanes.htm) is a program of studies designed to assess the health and nutritional status of adults and children in the United States. The survey is unique in that it combines interviews and physical examinations. NHANES is a major program of the National Center for Health Statistics (NCHS). NCHS is part of the Centers for Disease Control and Prevention (CDC) and has the responsibility for producing vital and health statistics for the Nation.\n",
        "\n",
        "The NHANES program began in the early 1960s and has been conducted as a series of surveys focusing on different population groups or health topics. In 1999, the survey became a continuous program that has a changing focus on a variety of health and nutrition measurements to meet emerging needs. The survey examines a nationally representative sample of about 5,000 persons each year. These persons are located in counties across the country, 15 of which are visited each year.\n",
        "\n",
        "The NHANES interview includes demographic, socioeconomic, dietary, and health-related questions. The examination component consists of medical, dental, and physiological measurements, as well as laboratory tests administered by highly trained medical personnel.\n",
        "\n",
        "To date, [thousands of research findings have been published using the NHANES data.](https://www.ncbi.nlm.nih.gov/pubmed?orig_db=PubMed&term=NHANES&cmd=search)\n",
        "\n",
        "Content\n",
        "The 2013-2014 NHANES datasets include the following components:\n",
        "\n",
        "**1. Demographics dataset:**\n",
        "\n",
        "A complete variable dictionary can be found [here](https://wwwn.cdc.gov/Nchs/Nhanes/Search/variablelist.aspx?Component=Demographics&CycleBeginYear=2013)\n",
        "\n",
        "**2. Examinations dataset, which contains:**\n",
        "\n",
        "Blood pressure\n",
        "\n",
        "Body measures\n",
        "\n",
        "Muscle strength - grip test\n",
        "\n",
        "Oral health - dentition\n",
        "\n",
        "Taste & smell\n",
        "\n",
        "A complete variable dictionary can be found [here](https://wwwn.cdc.gov/Nchs/Nhanes/Search/variablelist.aspx?Component=Examination&CycleBeginYear=2013)\n",
        "\n",
        "**3. Dietary data - total nutrient intake, first day:**\n",
        "\n",
        "A complete variable dictionary can be found [here](https://wwwn.cdc.gov/Nchs/Nhanes/Search/variablelist.aspx?Component=Dietary&CycleBeginYear=2013)\n",
        "\n",
        "**4. Laboratory dataset, which includes:**\n",
        "\n",
        "Albumin & Creatinine - Urine\n",
        "\n",
        "Apolipoprotein B\n",
        "\n",
        "Blood Lead, Cadmium, Total Mercury, Selenium, and Manganese\n",
        "\n",
        "Blood mercury: inorganic, ethyl and methyl\n",
        "\n",
        "Cholesterol - HDL\n",
        "\n",
        "Cholesterol - LDL & Triglycerides\n",
        "\n",
        "Cholesterol - Total\n",
        "\n",
        "Complete Blood Count with 5-part Differential - Whole Blood\n",
        "\n",
        "Copper, Selenium & Zinc - Serum\n",
        "\n",
        "Fasting Questionnaire\n",
        "\n",
        "Fluoride - Plasma\n",
        "\n",
        "Fluoride - Water\n",
        "\n",
        "Glycohemoglobin\n",
        "\n",
        "Hepatitis A\n",
        "\n",
        "Hepatitis B Surface Antibody\n",
        "\n",
        "Hepatitis B: core antibody, surface antigen, and Hepatitis D antibody\n",
        "\n",
        "Hepatitis C RNA (HCV-RNA) and Hepatitis C Genotype\n",
        "\n",
        "Hepatitis E: IgG & IgM Antibodies\n",
        "\n",
        "Herpes Simplex Virus Type-1 & Type-2\n",
        "\n",
        "HIV Antibody Test\n",
        "\n",
        "Human Papillomavirus (HPV) - Oral Rinse\n",
        "\n",
        "Human Papillomavirus (HPV) DNA - Vaginal Swab: Roche Cobas & Roche Linear Array\n",
        "\n",
        "Human Papillomavirus (HPV) DNA Results from Penile Swab Samples: Roche Linear Array\n",
        "\n",
        "Insulin\n",
        "\n",
        "Iodine - Urine\n",
        "\n",
        "Perchlorate, Nitrate & Thiocyanate - Urine\n",
        "\n",
        "Perfluoroalkyl and Polyfluoroalkyl Substances (formerly Polyfluoroalkyl Chemicals - PFC)\n",
        "\n",
        "Personal Care and Consumer Product Chemicals and Metabolites\n",
        "\n",
        "Phthalates and Plasticizers Metabolites - Urine\n",
        "\n",
        "Plasma Fasting Glucose\n",
        "\n",
        "Polycyclic Aromatic Hydrocarbons (PAH) - Urine\n",
        "\n",
        "Standard Biochemistry Profile\n",
        "\n",
        "Tissue Transglutaminase Assay (IgA-TTG) & IgA Endomyseal Antibody Assay (IgA EMA)\n",
        "\n",
        "Trichomonas - Urine\n",
        "\n",
        "Two-hour Oral Glucose Tolerance Test\n",
        "\n",
        "Urinary Chlamydia\n",
        "\n",
        "Urinary Mercury\n",
        "\n",
        "Urinary Speciated Arsenics\n",
        "\n",
        "Urinary Total Arsenic\n",
        "\n",
        "Urine Flow Rate\n",
        "\n",
        "Urine Metals\n",
        "\n",
        "Urine Pregnancy Test\n",
        "\n",
        "Vitamin B12\n",
        "\n",
        "A complete data dictionary can be found [here](https://wwwn.cdc.gov/Nchs/Nhanes/Search/variablelist.aspx?Component=Laboratory&CycleBeginYear=2013)\n",
        "\n",
        "**Questionnaire dataset, which includes information on:**\n",
        "\n",
        "Acculturation\n",
        "\n",
        "Alcohol Use\n",
        "\n",
        "Blood Pressure & Cholesterol\n",
        "\n",
        "Cardiovascular Health\n",
        "\n",
        "Consumer Behavior\n",
        "\n",
        "Current Health Status\n",
        "\n",
        "Dermatology\n",
        "\n",
        "Diabetes\n",
        "\n",
        "Diet Behavior & Nutrition\n",
        "\n",
        "Disability\n",
        "\n",
        "Drug Use\n",
        "\n",
        "Early Childhood\n",
        "\n",
        "Food Security\n",
        "\n",
        "Health Insurance\n",
        "\n",
        "Hepatitis\n",
        "\n",
        "Hospital Utilization & Access to Care\n",
        "\n",
        "Housing Characteristics\n",
        "\n",
        "Immunization\n",
        "\n",
        "Income\n",
        "\n",
        "Medical Conditions\n",
        "\n",
        "Mental Health - Depression Screener\n",
        "\n",
        "Occupation\n",
        "\n",
        "Oral Health\n",
        "\n",
        "Osteoporosis\n",
        "\n",
        "Pesticide Use\n",
        "\n",
        "Physical Activity\n",
        "\n",
        "Physical Functioning\n",
        "\n",
        "Preventive Aspirin Use\n",
        "\n",
        "Reproductive Health\n",
        "\n",
        "Sexual Behavior\n",
        "\n",
        "Sleep Disorders\n",
        "\n",
        "Smoking - Cigarette Use\n",
        "\n",
        "Smoking - Household Smokers\n",
        "\n",
        "Smoking - Recent Tobacco Use\n",
        "\n",
        "Smoking - Secondhand Smoke Exposure\n",
        "\n",
        "Taste & Smell\n",
        "\n",
        "Weight History\n",
        "\n",
        "Weight History - Youth\n",
        "\n",
        "A complete variable dictionary can be found [here](https://wwwn.cdc.gov/Nchs/Nhanes/Search/variablelist.aspx?Component=Questionnaire&CycleBeginYear=2013)\n"
      ]
    },
    {
      "cell_type": "markdown",
      "metadata": {
        "id": "Vj93ON87pDB_"
      },
      "source": [
        "# 1. Loading and Preparing Our Datasets"
      ]
    },
    {
      "cell_type": "code",
      "metadata": {
        "id": "FEOsupZ2mzlJ"
      },
      "source": [
        "# Load our modules\n",
        "import numpy as np \n",
        "import pandas as pd\n",
        "import seaborn as sns\n",
        "import numpy as np\n",
        "import matplotlib.pyplot as plt\n",
        "import matplotlib as matplot\n",
        "\n",
        "import re\n",
        "import sklearn\n",
        "\n",
        "# Ignore any warnings for cleaner output (not necessary)\n",
        "import warnings\n",
        "warnings.filterwarnings(\"ignore\")"
      ],
      "execution_count": null,
      "outputs": []
    },
    {
      "cell_type": "code",
      "metadata": {
        "id": "SGmqerxlpIem",
        "scrolled": false
      },
      "source": [
        "df1  = pd.read_csv(\"https://raw.githubusercontent.com/rajeevratan84/data-analyst-bootcamp/master/labs.csv\")\n",
        "df2  = pd.read_csv(\"https://raw.githubusercontent.com/rajeevratan84/data-analyst-bootcamp/master/examination.csv\")\n",
        "df3  = pd.read_csv(\"https://raw.githubusercontent.com/rajeevratan84/data-analyst-bootcamp/master/demographic.csv\")\n",
        "df4  = pd.read_csv(\"https://raw.githubusercontent.com/rajeevratan84/data-analyst-bootcamp/master/diet.csv\")\n",
        "df5  = pd.read_csv(\"https://raw.githubusercontent.com/rajeevratan84/data-analyst-bootcamp/master/questionnaire.csv\")\n",
        "\n",
        "df2.drop(['SEQN'], axis = 1, inplace=True)\n",
        "df3.drop(['SEQN'], axis = 1, inplace=True)\n",
        "df4.drop(['SEQN'], axis = 1, inplace=True)\n",
        "df5.drop(['SEQN'], axis = 1, inplace=True)\n",
        "\n",
        "df = pd.concat([df1, df2], axis=1, join='inner')\n",
        "df = pd.concat([df, df3], axis=1, join='inner')\n",
        "df = pd.concat([df, df4], axis=1, join='inner')\n",
        "df = pd.concat([df, df5], axis=1, join='inner')\n",
        "\n",
        "#sel = VarianceThreshold(threshold=(.8 * (1 - .8)))\n",
        "#sel.fit_transform(df)"
      ],
      "execution_count": null,
      "outputs": []
    },
    {
      "cell_type": "code",
      "metadata": {
        "colab": {
          "base_uri": "https://localhost:8080/",
          "height": 244
        },
        "id": "6VyGWNmBp-Lj",
        "outputId": "e1831510-e9be-4805-ba28-19e405f04269"
      },
      "source": [
        "df.head()"
      ],
      "execution_count": null,
      "outputs": [
        {
          "output_type": "execute_result",
          "data": {
            "text/html": [
              "<div>\n",
              "<style scoped>\n",
              "    .dataframe tbody tr th:only-of-type {\n",
              "        vertical-align: middle;\n",
              "    }\n",
              "\n",
              "    .dataframe tbody tr th {\n",
              "        vertical-align: top;\n",
              "    }\n",
              "\n",
              "    .dataframe thead th {\n",
              "        text-align: right;\n",
              "    }\n",
              "</style>\n",
              "<table border=\"1\" class=\"dataframe\">\n",
              "  <thead>\n",
              "    <tr style=\"text-align: right;\">\n",
              "      <th></th>\n",
              "      <th>SEQN</th>\n",
              "      <th>URXUMA</th>\n",
              "      <th>URXUMS</th>\n",
              "      <th>URXUCR.x</th>\n",
              "      <th>URXCRS</th>\n",
              "      <th>URDACT</th>\n",
              "      <th>WTSAF2YR.x</th>\n",
              "      <th>LBXAPB</th>\n",
              "      <th>LBDAPBSI</th>\n",
              "      <th>LBXSAL</th>\n",
              "      <th>...</th>\n",
              "      <th>WHD080U</th>\n",
              "      <th>WHD080L</th>\n",
              "      <th>WHD110</th>\n",
              "      <th>WHD120</th>\n",
              "      <th>WHD130</th>\n",
              "      <th>WHD140</th>\n",
              "      <th>WHQ150</th>\n",
              "      <th>WHQ030M</th>\n",
              "      <th>WHQ500</th>\n",
              "      <th>WHQ520</th>\n",
              "    </tr>\n",
              "  </thead>\n",
              "  <tbody>\n",
              "    <tr>\n",
              "      <th>0</th>\n",
              "      <td>73557</td>\n",
              "      <td>4.3</td>\n",
              "      <td>4.3</td>\n",
              "      <td>39.0</td>\n",
              "      <td>3447.6</td>\n",
              "      <td>11.03</td>\n",
              "      <td>NaN</td>\n",
              "      <td>NaN</td>\n",
              "      <td>NaN</td>\n",
              "      <td>4.1</td>\n",
              "      <td>...</td>\n",
              "      <td>NaN</td>\n",
              "      <td>40.0</td>\n",
              "      <td>270.0</td>\n",
              "      <td>200.0</td>\n",
              "      <td>69.0</td>\n",
              "      <td>270.0</td>\n",
              "      <td>62.0</td>\n",
              "      <td>NaN</td>\n",
              "      <td>NaN</td>\n",
              "      <td>NaN</td>\n",
              "    </tr>\n",
              "    <tr>\n",
              "      <th>1</th>\n",
              "      <td>73558</td>\n",
              "      <td>153.0</td>\n",
              "      <td>153.0</td>\n",
              "      <td>50.0</td>\n",
              "      <td>4420.0</td>\n",
              "      <td>306.00</td>\n",
              "      <td>NaN</td>\n",
              "      <td>NaN</td>\n",
              "      <td>NaN</td>\n",
              "      <td>4.7</td>\n",
              "      <td>...</td>\n",
              "      <td>NaN</td>\n",
              "      <td>NaN</td>\n",
              "      <td>240.0</td>\n",
              "      <td>250.0</td>\n",
              "      <td>72.0</td>\n",
              "      <td>250.0</td>\n",
              "      <td>25.0</td>\n",
              "      <td>NaN</td>\n",
              "      <td>NaN</td>\n",
              "      <td>NaN</td>\n",
              "    </tr>\n",
              "    <tr>\n",
              "      <th>2</th>\n",
              "      <td>73559</td>\n",
              "      <td>11.9</td>\n",
              "      <td>11.9</td>\n",
              "      <td>113.0</td>\n",
              "      <td>9989.2</td>\n",
              "      <td>10.53</td>\n",
              "      <td>142196.890197</td>\n",
              "      <td>57.0</td>\n",
              "      <td>0.57</td>\n",
              "      <td>3.7</td>\n",
              "      <td>...</td>\n",
              "      <td>NaN</td>\n",
              "      <td>NaN</td>\n",
              "      <td>180.0</td>\n",
              "      <td>190.0</td>\n",
              "      <td>70.0</td>\n",
              "      <td>228.0</td>\n",
              "      <td>35.0</td>\n",
              "      <td>NaN</td>\n",
              "      <td>NaN</td>\n",
              "      <td>NaN</td>\n",
              "    </tr>\n",
              "    <tr>\n",
              "      <th>3</th>\n",
              "      <td>73560</td>\n",
              "      <td>16.0</td>\n",
              "      <td>16.0</td>\n",
              "      <td>76.0</td>\n",
              "      <td>6718.4</td>\n",
              "      <td>21.05</td>\n",
              "      <td>NaN</td>\n",
              "      <td>NaN</td>\n",
              "      <td>NaN</td>\n",
              "      <td>NaN</td>\n",
              "      <td>...</td>\n",
              "      <td>NaN</td>\n",
              "      <td>NaN</td>\n",
              "      <td>NaN</td>\n",
              "      <td>NaN</td>\n",
              "      <td>NaN</td>\n",
              "      <td>NaN</td>\n",
              "      <td>NaN</td>\n",
              "      <td>3.0</td>\n",
              "      <td>3.0</td>\n",
              "      <td>3.0</td>\n",
              "    </tr>\n",
              "    <tr>\n",
              "      <th>4</th>\n",
              "      <td>73561</td>\n",
              "      <td>255.0</td>\n",
              "      <td>255.0</td>\n",
              "      <td>147.0</td>\n",
              "      <td>12994.8</td>\n",
              "      <td>173.47</td>\n",
              "      <td>142266.006548</td>\n",
              "      <td>92.0</td>\n",
              "      <td>0.92</td>\n",
              "      <td>4.3</td>\n",
              "      <td>...</td>\n",
              "      <td>NaN</td>\n",
              "      <td>NaN</td>\n",
              "      <td>150.0</td>\n",
              "      <td>135.0</td>\n",
              "      <td>67.0</td>\n",
              "      <td>170.0</td>\n",
              "      <td>60.0</td>\n",
              "      <td>NaN</td>\n",
              "      <td>NaN</td>\n",
              "      <td>NaN</td>\n",
              "    </tr>\n",
              "  </tbody>\n",
              "</table>\n",
              "<p>5 rows × 1812 columns</p>\n",
              "</div>"
            ],
            "text/plain": [
              "    SEQN  URXUMA  URXUMS  URXUCR.x   URXCRS  URDACT     WTSAF2YR.x  LBXAPB  \\\n",
              "0  73557     4.3     4.3      39.0   3447.6   11.03            NaN     NaN   \n",
              "1  73558   153.0   153.0      50.0   4420.0  306.00            NaN     NaN   \n",
              "2  73559    11.9    11.9     113.0   9989.2   10.53  142196.890197    57.0   \n",
              "3  73560    16.0    16.0      76.0   6718.4   21.05            NaN     NaN   \n",
              "4  73561   255.0   255.0     147.0  12994.8  173.47  142266.006548    92.0   \n",
              "\n",
              "   LBDAPBSI  LBXSAL  ...  WHD080U  WHD080L  WHD110  WHD120  WHD130  WHD140  \\\n",
              "0       NaN     4.1  ...      NaN     40.0   270.0   200.0    69.0   270.0   \n",
              "1       NaN     4.7  ...      NaN      NaN   240.0   250.0    72.0   250.0   \n",
              "2      0.57     3.7  ...      NaN      NaN   180.0   190.0    70.0   228.0   \n",
              "3       NaN     NaN  ...      NaN      NaN     NaN     NaN     NaN     NaN   \n",
              "4      0.92     4.3  ...      NaN      NaN   150.0   135.0    67.0   170.0   \n",
              "\n",
              "   WHQ150  WHQ030M  WHQ500  WHQ520  \n",
              "0    62.0      NaN     NaN     NaN  \n",
              "1    25.0      NaN     NaN     NaN  \n",
              "2    35.0      NaN     NaN     NaN  \n",
              "3     NaN      3.0     3.0     3.0  \n",
              "4    60.0      NaN     NaN     NaN  \n",
              "\n",
              "[5 rows x 1812 columns]"
            ]
          },
          "metadata": {
            "tags": []
          },
          "execution_count": 14
        }
      ]
    },
    {
      "cell_type": "code",
      "metadata": {
        "colab": {
          "base_uri": "https://localhost:8080/",
          "height": 284
        },
        "id": "xpaqNjvykzAi",
        "outputId": "e1fad551-1a60-485c-d73b-cdf15847346f"
      },
      "source": [
        "df.dropna(axis=1, how='all')\n",
        "df.dropna(axis=0, how='all')\n",
        "\n",
        "df = df.rename(columns = {'SEQN' : 'ID',\n",
        "                          'RIAGENDR' : 'Gender',\n",
        "                          'DMDYRSUS' : 'Years_in_US',\n",
        "                          'INDFMPIR' : 'Family_income',\n",
        "                          'LBXGH' : 'GlycoHemoglobin',\n",
        "                          'BMXARMC' : 'ArmCircum',\n",
        "                          'BMDAVSAD' : 'SaggitalAbdominal',\n",
        "                          'MGDCGSZ' : 'GripStrength',\n",
        "                          'DRABF' : 'Breast_fed'})\n",
        "\n",
        "df = df.loc[:, ['ID', 'Gender', 'Years_in_US', 'Family_income','GlycoHemoglobin', 'ArmCircum', \n",
        "                'SaggitalAbdominal', 'GripStrength', 'Breast_fed']]\n",
        "\n",
        "df.describe()"
      ],
      "execution_count": null,
      "outputs": [
        {
          "output_type": "execute_result",
          "data": {
            "text/html": [
              "<div>\n",
              "<style scoped>\n",
              "    .dataframe tbody tr th:only-of-type {\n",
              "        vertical-align: middle;\n",
              "    }\n",
              "\n",
              "    .dataframe tbody tr th {\n",
              "        vertical-align: top;\n",
              "    }\n",
              "\n",
              "    .dataframe thead th {\n",
              "        text-align: right;\n",
              "    }\n",
              "</style>\n",
              "<table border=\"1\" class=\"dataframe\">\n",
              "  <thead>\n",
              "    <tr style=\"text-align: right;\">\n",
              "      <th></th>\n",
              "      <th>ID</th>\n",
              "      <th>Gender</th>\n",
              "      <th>Years_in_US</th>\n",
              "      <th>Family_income</th>\n",
              "      <th>GlycoHemoglobin</th>\n",
              "      <th>ArmCircum</th>\n",
              "      <th>SaggitalAbdominal</th>\n",
              "      <th>GripStrength</th>\n",
              "      <th>Breast_fed</th>\n",
              "    </tr>\n",
              "  </thead>\n",
              "  <tbody>\n",
              "    <tr>\n",
              "      <th>count</th>\n",
              "      <td>9813.000000</td>\n",
              "      <td>9813.000000</td>\n",
              "      <td>1837.000000</td>\n",
              "      <td>9051.000000</td>\n",
              "      <td>6643.000000</td>\n",
              "      <td>9301.000000</td>\n",
              "      <td>7218.000000</td>\n",
              "      <td>7677.000000</td>\n",
              "      <td>8661.000000</td>\n",
              "    </tr>\n",
              "    <tr>\n",
              "      <th>mean</th>\n",
              "      <td>78644.559971</td>\n",
              "      <td>1.509426</td>\n",
              "      <td>8.933043</td>\n",
              "      <td>2.253101</td>\n",
              "      <td>5.642556</td>\n",
              "      <td>28.485765</td>\n",
              "      <td>21.114034</td>\n",
              "      <td>63.054891</td>\n",
              "      <td>1.984528</td>\n",
              "    </tr>\n",
              "    <tr>\n",
              "      <th>std</th>\n",
              "      <td>2938.592266</td>\n",
              "      <td>0.499937</td>\n",
              "      <td>17.787060</td>\n",
              "      <td>1.635458</td>\n",
              "      <td>1.004850</td>\n",
              "      <td>7.961971</td>\n",
              "      <td>4.963949</td>\n",
              "      <td>25.098439</td>\n",
              "      <td>0.123426</td>\n",
              "    </tr>\n",
              "    <tr>\n",
              "      <th>min</th>\n",
              "      <td>73557.000000</td>\n",
              "      <td>1.000000</td>\n",
              "      <td>1.000000</td>\n",
              "      <td>0.000000</td>\n",
              "      <td>3.500000</td>\n",
              "      <td>10.400000</td>\n",
              "      <td>10.100000</td>\n",
              "      <td>8.000000</td>\n",
              "      <td>1.000000</td>\n",
              "    </tr>\n",
              "    <tr>\n",
              "      <th>25%</th>\n",
              "      <td>76092.000000</td>\n",
              "      <td>1.000000</td>\n",
              "      <td>3.000000</td>\n",
              "      <td>0.870000</td>\n",
              "      <td>5.200000</td>\n",
              "      <td>22.600000</td>\n",
              "      <td>17.300000</td>\n",
              "      <td>45.600000</td>\n",
              "      <td>2.000000</td>\n",
              "    </tr>\n",
              "    <tr>\n",
              "      <th>50%</th>\n",
              "      <td>78643.000000</td>\n",
              "      <td>2.000000</td>\n",
              "      <td>5.000000</td>\n",
              "      <td>1.710000</td>\n",
              "      <td>5.400000</td>\n",
              "      <td>29.300000</td>\n",
              "      <td>20.700000</td>\n",
              "      <td>60.300000</td>\n",
              "      <td>2.000000</td>\n",
              "    </tr>\n",
              "    <tr>\n",
              "      <th>75%</th>\n",
              "      <td>81191.000000</td>\n",
              "      <td>2.000000</td>\n",
              "      <td>7.000000</td>\n",
              "      <td>3.610000</td>\n",
              "      <td>5.800000</td>\n",
              "      <td>34.000000</td>\n",
              "      <td>24.400000</td>\n",
              "      <td>80.700000</td>\n",
              "      <td>2.000000</td>\n",
              "    </tr>\n",
              "    <tr>\n",
              "      <th>max</th>\n",
              "      <td>83731.000000</td>\n",
              "      <td>2.000000</td>\n",
              "      <td>99.000000</td>\n",
              "      <td>5.000000</td>\n",
              "      <td>17.500000</td>\n",
              "      <td>59.400000</td>\n",
              "      <td>40.100000</td>\n",
              "      <td>162.800000</td>\n",
              "      <td>2.000000</td>\n",
              "    </tr>\n",
              "  </tbody>\n",
              "</table>\n",
              "</div>"
            ],
            "text/plain": [
              "                 ID       Gender  Years_in_US  Family_income  GlycoHemoglobin  \\\n",
              "count   9813.000000  9813.000000  1837.000000    9051.000000      6643.000000   \n",
              "mean   78644.559971     1.509426     8.933043       2.253101         5.642556   \n",
              "std     2938.592266     0.499937    17.787060       1.635458         1.004850   \n",
              "min    73557.000000     1.000000     1.000000       0.000000         3.500000   \n",
              "25%    76092.000000     1.000000     3.000000       0.870000         5.200000   \n",
              "50%    78643.000000     2.000000     5.000000       1.710000         5.400000   \n",
              "75%    81191.000000     2.000000     7.000000       3.610000         5.800000   \n",
              "max    83731.000000     2.000000    99.000000       5.000000        17.500000   \n",
              "\n",
              "         ArmCircum  SaggitalAbdominal  GripStrength   Breast_fed  \n",
              "count  9301.000000        7218.000000   7677.000000  8661.000000  \n",
              "mean     28.485765          21.114034     63.054891     1.984528  \n",
              "std       7.961971           4.963949     25.098439     0.123426  \n",
              "min      10.400000          10.100000      8.000000     1.000000  \n",
              "25%      22.600000          17.300000     45.600000     2.000000  \n",
              "50%      29.300000          20.700000     60.300000     2.000000  \n",
              "75%      34.000000          24.400000     80.700000     2.000000  \n",
              "max      59.400000          40.100000    162.800000     2.000000  "
            ]
          },
          "metadata": {
            "tags": []
          },
          "execution_count": 15
        }
      ]
    },
    {
      "cell_type": "markdown",
      "metadata": {
        "id": "v5m9i0MVlDWh"
      },
      "source": [
        "We use **Glycohemoglobin** to classify Diabetes \n",
        "- 0 -> Normal status \n",
        "- 1 -> High-risk diabetes \n",
        "- 2 -> Diabetes patients\n"
      ]
    },
    {
      "cell_type": "code",
      "metadata": {
        "colab": {
          "base_uri": "https://localhost:8080/",
          "height": 284
        },
        "id": "9OKJmsPtk9Jq",
        "scrolled": true,
        "outputId": "ac711c84-0926-4f49-f37c-4e3db65512ee"
      },
      "source": [
        "from sklearn.feature_selection import VarianceThreshold\n",
        "\n",
        "#year in us -> american : 0, not american : 1\n",
        "df.dropna(axis=1, how='all')\n",
        "df.dropna(axis=0, how='all')\n",
        "\n",
        "#YEARS IN US NA처리\n",
        "df['Years_in_US'] = df['Years_in_US'].apply(lambda x: x if x > 0 else 0)\n",
        "\n",
        "#GlycoHemoglobin, Saggital Abdominal(median)\n",
        "df['GlycoHemoglobin'] = df['GlycoHemoglobin'].fillna(df['GlycoHemoglobin'].median())\n",
        "df['SaggitalAbdominal'] = df['SaggitalAbdominal'].fillna(df['SaggitalAbdominal'].median())\n",
        "df['ArmCircum'] = df['ArmCircum'].fillna(df['ArmCircum'].median())\n",
        "df['GripStrength'] = df['GripStrength'].fillna(df['GripStrength'].median())\n",
        "\n",
        "#Family Income -> use Forward Fill to fill na\n",
        "df['Family_income'] = df['Family_income'].fillna(method='ffill')\n",
        "\n",
        "#Breat_fed -> fill to 1\n",
        "df['Breast_fed'] = df['Breast_fed'].fillna(value = 1)\n",
        "\n",
        "# We remove all features with low variance which leaves us with the dataframe below\n",
        "# Features with a training-set variance lower than this threshold will be removed.\n",
        "sel = VarianceThreshold(threshold=(0.15))\n",
        "sel.fit_transform(df)\n",
        "\n",
        "df.describe()"
      ],
      "execution_count": null,
      "outputs": [
        {
          "output_type": "execute_result",
          "data": {
            "text/html": [
              "<div>\n",
              "<style scoped>\n",
              "    .dataframe tbody tr th:only-of-type {\n",
              "        vertical-align: middle;\n",
              "    }\n",
              "\n",
              "    .dataframe tbody tr th {\n",
              "        vertical-align: top;\n",
              "    }\n",
              "\n",
              "    .dataframe thead th {\n",
              "        text-align: right;\n",
              "    }\n",
              "</style>\n",
              "<table border=\"1\" class=\"dataframe\">\n",
              "  <thead>\n",
              "    <tr style=\"text-align: right;\">\n",
              "      <th></th>\n",
              "      <th>ID</th>\n",
              "      <th>Gender</th>\n",
              "      <th>Years_in_US</th>\n",
              "      <th>Family_income</th>\n",
              "      <th>GlycoHemoglobin</th>\n",
              "      <th>ArmCircum</th>\n",
              "      <th>SaggitalAbdominal</th>\n",
              "      <th>GripStrength</th>\n",
              "      <th>Breast_fed</th>\n",
              "    </tr>\n",
              "  </thead>\n",
              "  <tbody>\n",
              "    <tr>\n",
              "      <th>count</th>\n",
              "      <td>9813.000000</td>\n",
              "      <td>9813.000000</td>\n",
              "      <td>9813.000000</td>\n",
              "      <td>9813.000000</td>\n",
              "      <td>9813.000000</td>\n",
              "      <td>9813.000000</td>\n",
              "      <td>9813.000000</td>\n",
              "      <td>9813.000000</td>\n",
              "      <td>9813.000000</td>\n",
              "    </tr>\n",
              "    <tr>\n",
              "      <th>mean</th>\n",
              "      <td>78644.559971</td>\n",
              "      <td>1.509426</td>\n",
              "      <td>1.672271</td>\n",
              "      <td>2.246973</td>\n",
              "      <td>5.564201</td>\n",
              "      <td>28.528248</td>\n",
              "      <td>21.004545</td>\n",
              "      <td>62.455233</td>\n",
              "      <td>1.868949</td>\n",
              "    </tr>\n",
              "    <tr>\n",
              "      <th>std</th>\n",
              "      <td>2938.592266</td>\n",
              "      <td>0.499937</td>\n",
              "      <td>8.446506</td>\n",
              "      <td>1.635495</td>\n",
              "      <td>0.834491</td>\n",
              "      <td>7.753571</td>\n",
              "      <td>4.261142</td>\n",
              "      <td>22.228196</td>\n",
              "      <td>0.337473</td>\n",
              "    </tr>\n",
              "    <tr>\n",
              "      <th>min</th>\n",
              "      <td>73557.000000</td>\n",
              "      <td>1.000000</td>\n",
              "      <td>0.000000</td>\n",
              "      <td>0.000000</td>\n",
              "      <td>3.500000</td>\n",
              "      <td>10.400000</td>\n",
              "      <td>10.100000</td>\n",
              "      <td>8.000000</td>\n",
              "      <td>1.000000</td>\n",
              "    </tr>\n",
              "    <tr>\n",
              "      <th>25%</th>\n",
              "      <td>76092.000000</td>\n",
              "      <td>1.000000</td>\n",
              "      <td>0.000000</td>\n",
              "      <td>0.870000</td>\n",
              "      <td>5.300000</td>\n",
              "      <td>23.200000</td>\n",
              "      <td>18.500000</td>\n",
              "      <td>50.300000</td>\n",
              "      <td>2.000000</td>\n",
              "    </tr>\n",
              "    <tr>\n",
              "      <th>50%</th>\n",
              "      <td>78643.000000</td>\n",
              "      <td>2.000000</td>\n",
              "      <td>0.000000</td>\n",
              "      <td>1.700000</td>\n",
              "      <td>5.400000</td>\n",
              "      <td>29.300000</td>\n",
              "      <td>20.700000</td>\n",
              "      <td>60.300000</td>\n",
              "      <td>2.000000</td>\n",
              "    </tr>\n",
              "    <tr>\n",
              "      <th>75%</th>\n",
              "      <td>81191.000000</td>\n",
              "      <td>2.000000</td>\n",
              "      <td>0.000000</td>\n",
              "      <td>3.600000</td>\n",
              "      <td>5.600000</td>\n",
              "      <td>33.800000</td>\n",
              "      <td>22.900000</td>\n",
              "      <td>73.300000</td>\n",
              "      <td>2.000000</td>\n",
              "    </tr>\n",
              "    <tr>\n",
              "      <th>max</th>\n",
              "      <td>83731.000000</td>\n",
              "      <td>2.000000</td>\n",
              "      <td>99.000000</td>\n",
              "      <td>5.000000</td>\n",
              "      <td>17.500000</td>\n",
              "      <td>59.400000</td>\n",
              "      <td>40.100000</td>\n",
              "      <td>162.800000</td>\n",
              "      <td>2.000000</td>\n",
              "    </tr>\n",
              "  </tbody>\n",
              "</table>\n",
              "</div>"
            ],
            "text/plain": [
              "                 ID       Gender  Years_in_US  Family_income  GlycoHemoglobin  \\\n",
              "count   9813.000000  9813.000000  9813.000000    9813.000000      9813.000000   \n",
              "mean   78644.559971     1.509426     1.672271       2.246973         5.564201   \n",
              "std     2938.592266     0.499937     8.446506       1.635495         0.834491   \n",
              "min    73557.000000     1.000000     0.000000       0.000000         3.500000   \n",
              "25%    76092.000000     1.000000     0.000000       0.870000         5.300000   \n",
              "50%    78643.000000     2.000000     0.000000       1.700000         5.400000   \n",
              "75%    81191.000000     2.000000     0.000000       3.600000         5.600000   \n",
              "max    83731.000000     2.000000    99.000000       5.000000        17.500000   \n",
              "\n",
              "         ArmCircum  SaggitalAbdominal  GripStrength   Breast_fed  \n",
              "count  9813.000000        9813.000000   9813.000000  9813.000000  \n",
              "mean     28.528248          21.004545     62.455233     1.868949  \n",
              "std       7.753571           4.261142     22.228196     0.337473  \n",
              "min      10.400000          10.100000      8.000000     1.000000  \n",
              "25%      23.200000          18.500000     50.300000     2.000000  \n",
              "50%      29.300000          20.700000     60.300000     2.000000  \n",
              "75%      33.800000          22.900000     73.300000     2.000000  \n",
              "max      59.400000          40.100000    162.800000     2.000000  "
            ]
          },
          "metadata": {
            "tags": []
          },
          "execution_count": 16
        }
      ]
    },
    {
      "cell_type": "markdown",
      "metadata": {
        "id": "OW-MS_ODUj6t"
      },
      "source": [
        "If the variance is low or close to zero, then a feature is approximately constant and will not improve the performance of the model. In that case, it should be removed."
      ]
    },
    {
      "cell_type": "code",
      "metadata": {
        "colab": {
          "base_uri": "https://localhost:8080/",
          "height": 343
        },
        "id": "JC33QedVlGQZ",
        "outputId": "45d209fc-bf39-43a7-be95-3dc182a3e717"
      },
      "source": [
        "df.loc[df['GlycoHemoglobin'] < 6.0, 'Diabetes'] = 0\n",
        "df.loc[(df['GlycoHemoglobin'] >= 6.0) & (df['GlycoHemoglobin'] <= 6.4), 'Diabetes'] = 1\n",
        "df.loc[df['GlycoHemoglobin'] >= 6.5, 'Diabetes'] = 2\n",
        "\n",
        "df.head(10)"
      ],
      "execution_count": null,
      "outputs": [
        {
          "output_type": "execute_result",
          "data": {
            "text/html": [
              "<div>\n",
              "<style scoped>\n",
              "    .dataframe tbody tr th:only-of-type {\n",
              "        vertical-align: middle;\n",
              "    }\n",
              "\n",
              "    .dataframe tbody tr th {\n",
              "        vertical-align: top;\n",
              "    }\n",
              "\n",
              "    .dataframe thead th {\n",
              "        text-align: right;\n",
              "    }\n",
              "</style>\n",
              "<table border=\"1\" class=\"dataframe\">\n",
              "  <thead>\n",
              "    <tr style=\"text-align: right;\">\n",
              "      <th></th>\n",
              "      <th>ID</th>\n",
              "      <th>Gender</th>\n",
              "      <th>Years_in_US</th>\n",
              "      <th>Family_income</th>\n",
              "      <th>GlycoHemoglobin</th>\n",
              "      <th>ArmCircum</th>\n",
              "      <th>SaggitalAbdominal</th>\n",
              "      <th>GripStrength</th>\n",
              "      <th>Breast_fed</th>\n",
              "      <th>Diabetes</th>\n",
              "    </tr>\n",
              "  </thead>\n",
              "  <tbody>\n",
              "    <tr>\n",
              "      <th>0</th>\n",
              "      <td>73557</td>\n",
              "      <td>1</td>\n",
              "      <td>0.0</td>\n",
              "      <td>0.84</td>\n",
              "      <td>13.9</td>\n",
              "      <td>35.3</td>\n",
              "      <td>20.6</td>\n",
              "      <td>55.2</td>\n",
              "      <td>2.0</td>\n",
              "      <td>2.0</td>\n",
              "    </tr>\n",
              "    <tr>\n",
              "      <th>1</th>\n",
              "      <td>73558</td>\n",
              "      <td>1</td>\n",
              "      <td>0.0</td>\n",
              "      <td>1.78</td>\n",
              "      <td>9.1</td>\n",
              "      <td>34.7</td>\n",
              "      <td>24.4</td>\n",
              "      <td>61.5</td>\n",
              "      <td>2.0</td>\n",
              "      <td>2.0</td>\n",
              "    </tr>\n",
              "    <tr>\n",
              "      <th>2</th>\n",
              "      <td>73559</td>\n",
              "      <td>1</td>\n",
              "      <td>0.0</td>\n",
              "      <td>4.51</td>\n",
              "      <td>8.9</td>\n",
              "      <td>33.5</td>\n",
              "      <td>25.6</td>\n",
              "      <td>91.0</td>\n",
              "      <td>2.0</td>\n",
              "      <td>2.0</td>\n",
              "    </tr>\n",
              "    <tr>\n",
              "      <th>3</th>\n",
              "      <td>73560</td>\n",
              "      <td>1</td>\n",
              "      <td>0.0</td>\n",
              "      <td>2.52</td>\n",
              "      <td>5.4</td>\n",
              "      <td>21.0</td>\n",
              "      <td>14.9</td>\n",
              "      <td>32.2</td>\n",
              "      <td>2.0</td>\n",
              "      <td>0.0</td>\n",
              "    </tr>\n",
              "    <tr>\n",
              "      <th>4</th>\n",
              "      <td>73561</td>\n",
              "      <td>2</td>\n",
              "      <td>0.0</td>\n",
              "      <td>5.00</td>\n",
              "      <td>4.9</td>\n",
              "      <td>25.2</td>\n",
              "      <td>20.7</td>\n",
              "      <td>30.9</td>\n",
              "      <td>2.0</td>\n",
              "      <td>0.0</td>\n",
              "    </tr>\n",
              "    <tr>\n",
              "      <th>5</th>\n",
              "      <td>73562</td>\n",
              "      <td>1</td>\n",
              "      <td>0.0</td>\n",
              "      <td>4.79</td>\n",
              "      <td>5.5</td>\n",
              "      <td>41.8</td>\n",
              "      <td>29.1</td>\n",
              "      <td>53.1</td>\n",
              "      <td>2.0</td>\n",
              "      <td>0.0</td>\n",
              "    </tr>\n",
              "    <tr>\n",
              "      <th>6</th>\n",
              "      <td>73563</td>\n",
              "      <td>1</td>\n",
              "      <td>0.0</td>\n",
              "      <td>5.00</td>\n",
              "      <td>5.4</td>\n",
              "      <td>14.9</td>\n",
              "      <td>20.7</td>\n",
              "      <td>60.3</td>\n",
              "      <td>1.0</td>\n",
              "      <td>0.0</td>\n",
              "    </tr>\n",
              "    <tr>\n",
              "      <th>7</th>\n",
              "      <td>73564</td>\n",
              "      <td>2</td>\n",
              "      <td>0.0</td>\n",
              "      <td>5.00</td>\n",
              "      <td>5.5</td>\n",
              "      <td>38.0</td>\n",
              "      <td>26.7</td>\n",
              "      <td>45.9</td>\n",
              "      <td>2.0</td>\n",
              "      <td>0.0</td>\n",
              "    </tr>\n",
              "    <tr>\n",
              "      <th>8</th>\n",
              "      <td>73566</td>\n",
              "      <td>1</td>\n",
              "      <td>0.0</td>\n",
              "      <td>5.00</td>\n",
              "      <td>5.4</td>\n",
              "      <td>29.0</td>\n",
              "      <td>19.9</td>\n",
              "      <td>38.8</td>\n",
              "      <td>2.0</td>\n",
              "      <td>0.0</td>\n",
              "    </tr>\n",
              "    <tr>\n",
              "      <th>9</th>\n",
              "      <td>73567</td>\n",
              "      <td>2</td>\n",
              "      <td>0.0</td>\n",
              "      <td>0.48</td>\n",
              "      <td>5.2</td>\n",
              "      <td>27.5</td>\n",
              "      <td>20.0</td>\n",
              "      <td>43.5</td>\n",
              "      <td>2.0</td>\n",
              "      <td>0.0</td>\n",
              "    </tr>\n",
              "  </tbody>\n",
              "</table>\n",
              "</div>"
            ],
            "text/plain": [
              "      ID  Gender  Years_in_US  Family_income  GlycoHemoglobin  ArmCircum  \\\n",
              "0  73557       1          0.0           0.84             13.9       35.3   \n",
              "1  73558       1          0.0           1.78              9.1       34.7   \n",
              "2  73559       1          0.0           4.51              8.9       33.5   \n",
              "3  73560       1          0.0           2.52              5.4       21.0   \n",
              "4  73561       2          0.0           5.00              4.9       25.2   \n",
              "5  73562       1          0.0           4.79              5.5       41.8   \n",
              "6  73563       1          0.0           5.00              5.4       14.9   \n",
              "7  73564       2          0.0           5.00              5.5       38.0   \n",
              "8  73566       1          0.0           5.00              5.4       29.0   \n",
              "9  73567       2          0.0           0.48              5.2       27.5   \n",
              "\n",
              "   SaggitalAbdominal  GripStrength  Breast_fed  Diabetes  \n",
              "0               20.6          55.2         2.0       2.0  \n",
              "1               24.4          61.5         2.0       2.0  \n",
              "2               25.6          91.0         2.0       2.0  \n",
              "3               14.9          32.2         2.0       0.0  \n",
              "4               20.7          30.9         2.0       0.0  \n",
              "5               29.1          53.1         2.0       0.0  \n",
              "6               20.7          60.3         1.0       0.0  \n",
              "7               26.7          45.9         2.0       0.0  \n",
              "8               19.9          38.8         2.0       0.0  \n",
              "9               20.0          43.5         2.0       0.0  "
            ]
          },
          "metadata": {
            "tags": []
          },
          "execution_count": 17
        }
      ]
    },
    {
      "cell_type": "code",
      "metadata": {
        "colab": {
          "base_uri": "https://localhost:8080/",
          "height": 648
        },
        "id": "TFolq_j1myxG",
        "outputId": "f60d5f9e-0dc5-468f-9d4b-2db6919575ef"
      },
      "source": [
        "colormap = plt.cm.viridis\n",
        "plt.figure(figsize=(10,10))\n",
        "corr = df.astype(float).drop(axis=1, labels='ID').corr()\n",
        "mask = np.triu(np.ones_like(corr, dtype=bool))\n",
        "sns.heatmap(corr, linewidths=0.1, vmax=1.0, square=True, mask = mask, cmap=colormap, annot=True)"
      ],
      "execution_count": null,
      "outputs": [
        {
          "output_type": "execute_result",
          "data": {
            "text/plain": [
              "<AxesSubplot:>"
            ]
          },
          "metadata": {
            "tags": []
          },
          "execution_count": 18
        },
        {
          "output_type": "display_data",
          "data": {
            "image/png": "[encoded data removed]",
            "text/plain": [
              "<Figure size 720x720 with 2 Axes>"
            ]
          },
          "metadata": {
            "tags": [],
            "needs_background": "light"
          }
        }
      ]
    },
    {
      "cell_type": "markdown",
      "metadata": {
        "id": "3eUTZ7R2j567"
      },
      "source": [
        "# 2. Creating our Model"
      ]
    },
    {
      "cell_type": "code",
      "metadata": {
        "id": "JdQr4CMVlR4F"
      },
      "source": [
        "from sklearn.svm import SVC\n",
        "from sklearn.model_selection import KFold\n",
        "from sklearn.metrics import mean_squared_error, r2_score"
      ],
      "execution_count": null,
      "outputs": []
    },
    {
      "cell_type": "code",
      "metadata": {
        "colab": {
          "base_uri": "https://localhost:8080/",
          "height": 195
        },
        "id": "mPzBmWDolTV3",
        "outputId": "ce702cc3-831b-4b24-ef50-1f021caa9239"
      },
      "source": [
        "df.drop(['GlycoHemoglobin'], axis = 1, inplace=True)\n",
        "\n",
        "df.head(5)"
      ],
      "execution_count": null,
      "outputs": [
        {
          "output_type": "execute_result",
          "data": {
            "text/html": [
              "<div>\n",
              "<style scoped>\n",
              "    .dataframe tbody tr th:only-of-type {\n",
              "        vertical-align: middle;\n",
              "    }\n",
              "\n",
              "    .dataframe tbody tr th {\n",
              "        vertical-align: top;\n",
              "    }\n",
              "\n",
              "    .dataframe thead th {\n",
              "        text-align: right;\n",
              "    }\n",
              "</style>\n",
              "<table border=\"1\" class=\"dataframe\">\n",
              "  <thead>\n",
              "    <tr style=\"text-align: right;\">\n",
              "      <th></th>\n",
              "      <th>ID</th>\n",
              "      <th>Gender</th>\n",
              "      <th>Years_in_US</th>\n",
              "      <th>Family_income</th>\n",
              "      <th>ArmCircum</th>\n",
              "      <th>SaggitalAbdominal</th>\n",
              "      <th>GripStrength</th>\n",
              "      <th>Breast_fed</th>\n",
              "      <th>Diabetes</th>\n",
              "    </tr>\n",
              "  </thead>\n",
              "  <tbody>\n",
              "    <tr>\n",
              "      <th>0</th>\n",
              "      <td>73557</td>\n",
              "      <td>1</td>\n",
              "      <td>0.0</td>\n",
              "      <td>0.84</td>\n",
              "      <td>35.3</td>\n",
              "      <td>20.6</td>\n",
              "      <td>55.2</td>\n",
              "      <td>2.0</td>\n",
              "      <td>2.0</td>\n",
              "    </tr>\n",
              "    <tr>\n",
              "      <th>1</th>\n",
              "      <td>73558</td>\n",
              "      <td>1</td>\n",
              "      <td>0.0</td>\n",
              "      <td>1.78</td>\n",
              "      <td>34.7</td>\n",
              "      <td>24.4</td>\n",
              "      <td>61.5</td>\n",
              "      <td>2.0</td>\n",
              "      <td>2.0</td>\n",
              "    </tr>\n",
              "    <tr>\n",
              "      <th>2</th>\n",
              "      <td>73559</td>\n",
              "      <td>1</td>\n",
              "      <td>0.0</td>\n",
              "      <td>4.51</td>\n",
              "      <td>33.5</td>\n",
              "      <td>25.6</td>\n",
              "      <td>91.0</td>\n",
              "      <td>2.0</td>\n",
              "      <td>2.0</td>\n",
              "    </tr>\n",
              "    <tr>\n",
              "      <th>3</th>\n",
              "      <td>73560</td>\n",
              "      <td>1</td>\n",
              "      <td>0.0</td>\n",
              "      <td>2.52</td>\n",
              "      <td>21.0</td>\n",
              "      <td>14.9</td>\n",
              "      <td>32.2</td>\n",
              "      <td>2.0</td>\n",
              "      <td>0.0</td>\n",
              "    </tr>\n",
              "    <tr>\n",
              "      <th>4</th>\n",
              "      <td>73561</td>\n",
              "      <td>2</td>\n",
              "      <td>0.0</td>\n",
              "      <td>5.00</td>\n",
              "      <td>25.2</td>\n",
              "      <td>20.7</td>\n",
              "      <td>30.9</td>\n",
              "      <td>2.0</td>\n",
              "      <td>0.0</td>\n",
              "    </tr>\n",
              "  </tbody>\n",
              "</table>\n",
              "</div>"
            ],
            "text/plain": [
              "      ID  Gender  Years_in_US  Family_income  ArmCircum  SaggitalAbdominal  \\\n",
              "0  73557       1          0.0           0.84       35.3               20.6   \n",
              "1  73558       1          0.0           1.78       34.7               24.4   \n",
              "2  73559       1          0.0           4.51       33.5               25.6   \n",
              "3  73560       1          0.0           2.52       21.0               14.9   \n",
              "4  73561       2          0.0           5.00       25.2               20.7   \n",
              "\n",
              "   GripStrength  Breast_fed  Diabetes  \n",
              "0          55.2         2.0       2.0  \n",
              "1          61.5         2.0       2.0  \n",
              "2          91.0         2.0       2.0  \n",
              "3          32.2         2.0       0.0  \n",
              "4          30.9         2.0       0.0  "
            ]
          },
          "metadata": {
            "tags": []
          },
          "execution_count": 24
        }
      ]
    },
    {
      "cell_type": "markdown",
      "metadata": {
        "id": "r-xIyB9ckCqJ"
      },
      "source": [
        "### Using a simple Linear Regression Model"
      ]
    },
    {
      "cell_type": "code",
      "metadata": {
        "colab": {
          "base_uri": "https://localhost:8080/"
        },
        "id": "uiMkWnn4lUbM",
        "outputId": "6ef53bbf-e22f-40f7-b10a-e227557e2dbd"
      },
      "source": [
        "from sklearn.linear_model import LinearRegression\n",
        "\n",
        "#data -> attributes, target -> diabetes\n",
        "data = df.drop(['Diabetes'], axis=1)\n",
        "target = df[['Diabetes']]\n",
        "\n",
        "#seperate training set and test set\n",
        "train_X = data[:6000]\n",
        "test_X = data[6000:]\n",
        "train_Y = target[:6000]\n",
        "test_Y = target[6000:]\n",
        "\n",
        "#create linear regression obj\n",
        "lr_regr = LinearRegression()\n",
        "\n",
        "#training via linear regression model\n",
        "lr_regr.fit(train_X, train_Y)\n",
        "\n",
        "#make prediction using the test set\n",
        "lr_pred_diabetes = lr_regr.predict(test_X)\n",
        "lr_score = lr_regr.score(test_X, test_Y)\n",
        "\n",
        "print('LRr_Coefficients: ', lr_regr.coef_)\n",
        "print('LR_Mean Square Error: %.2f' % mean_squared_error(test_Y, lr_pred_diabetes))\n",
        "print('LR_Variance score: %.2f' % r2_score(test_Y, lr_pred_diabetes))\n",
        "print('Score: %.2f' % lr_regr.score(test_X, test_Y))"
      ],
      "execution_count": null,
      "outputs": [
        {
          "output_type": "stream",
          "text": [
            "LRr_Coefficients:  [[ 1.98953563e-06 -2.46852260e-02 -9.10149905e-04 -5.26378493e-03\n",
            "   1.12229802e-02  3.57806364e-02 -3.02433944e-03  1.73096160e-03]]\n",
            "LR_Mean Square Error: 0.23\n",
            "LR_Variance score: 0.12\n",
            "Score: 0.12\n"
          ],
          "name": "stdout"
        }
      ]
    },
    {
      "cell_type": "code",
      "metadata": {
        "colab": {
          "base_uri": "https://localhost:8080/"
        },
        "id": "HpWTsJ5HkMOk",
        "outputId": "07a9d2c5-e722-4879-c8bd-a0ff5a2b00ed"
      },
      "source": [
        "lr_pred_diabetes"
      ],
      "execution_count": null,
      "outputs": [
        {
          "output_type": "execute_result",
          "data": {
            "text/plain": [
              "array([[0.17610814],\n",
              "       [0.06915668],\n",
              "       [0.1792808 ],\n",
              "       ...,\n",
              "       [0.46134257],\n",
              "       [0.19766727],\n",
              "       [0.09884146]])"
            ]
          },
          "metadata": {
            "tags": []
          },
          "execution_count": 26
        }
      ]
    },
    {
      "cell_type": "markdown",
      "metadata": {
        "id": "vofosh-0khJ2"
      },
      "source": [
        "\n",
        "\n",
        "### Taking a Classification Problem Approach\n",
        "\n",
        "Using Adaboost with Decision Tree classifiers\n",
        "\n",
        "![](https://ars.els-cdn.com/content/image/3-s2.0-B9780128177365000090-f09-18-9780128177365.jpg)"
      ]
    },
    {
      "cell_type": "code",
      "metadata": {
        "colab": {
          "base_uri": "https://localhost:8080/"
        },
        "id": "7_y7rzWHrQ6q",
        "outputId": "1f133a54-c382-4056-90ee-b6f53ba73aca"
      },
      "source": [
        "from sklearn.ensemble import AdaBoostClassifier\n",
        "from sklearn.tree import DecisionTreeClassifier\n",
        "from sklearn.model_selection import cross_val_score\n",
        "\n",
        "#create adaboost classification obj\n",
        "ab_clf = AdaBoostClassifier(base_estimator=DecisionTreeClassifier(), n_estimators=100, \n",
        "                            learning_rate=0.5, random_state=100)\n",
        "\n",
        "#training via adaboost classficiation model\n",
        "ab_clf.fit(train_X, train_Y)\n",
        "\n",
        "#make prediction using the test set\n",
        "ab_pred_diabetes = ab_clf.predict(test_X)\n",
        "print('Prediction: \\n', ab_pred_diabetes)\n",
        "\n",
        "print('\\nParams: \\n', ab_clf.get_params)\n",
        "\n",
        "#score\n",
        "ab_clf_score = ab_clf.score(test_X, test_Y)\n",
        "print(\"\\nMean Accuracy: %.2f\" % ab_clf.score(test_X, test_Y))"
      ],
      "execution_count": null,
      "outputs": [
        {
          "output_type": "stream",
          "text": [
            "Prediction: \n",
            " [0. 0. 0. ... 0. 0. 0.]\n",
            "\n",
            "Params: \n",
            " <bound method BaseEstimator.get_params of AdaBoostClassifier(base_estimator=DecisionTreeClassifier(), learning_rate=0.5,\n",
            "                   n_estimators=100, random_state=100)>\n",
            "\n",
            "Mean Accuracy: 0.71\n"
          ],
          "name": "stdout"
        }
      ]
    },
    {
      "cell_type": "markdown",
      "metadata": {
        "id": "OaM66I3xkv2_"
      },
      "source": [
        "# 3. Improving Performance \n",
        "### Using Bagging Decision Tree and KNeighbor Classifiers\n",
        "\n",
        "![](https://vitalflux.com/wp-content/uploads/2020/09/Screenshot-2020-09-08-at-4.17.30-PM.png)"
      ]
    },
    {
      "cell_type": "markdown",
      "metadata": {
        "id": "SuvQhMnOlgKu"
      },
      "source": [
        "### Bagging Decision Trees Classifiers"
      ]
    },
    {
      "cell_type": "code",
      "metadata": {
        "colab": {
          "base_uri": "https://localhost:8080/"
        },
        "id": "yD3hhvIQrSoS",
        "outputId": "f8e4b37c-87ed-4c65-f0e2-93eb793bcaee"
      },
      "source": [
        "from sklearn.ensemble import BaggingClassifier\n",
        "\n",
        "bagging = BaggingClassifier(base_estimator= DecisionTreeClassifier(), max_samples = 0.5, max_features = 0.5, \n",
        "                            bootstrap = False, bootstrap_features = False)\n",
        "\n",
        "bagging.fit(train_X, train_Y)\n",
        "bg_pred_diabetes = bagging.predict(test_X)\n",
        "\n",
        "bg_dt_score = bagging.score(test_X, test_Y)\n",
        "bagging.score(test_X, test_Y)"
      ],
      "execution_count": null,
      "outputs": [
        {
          "output_type": "execute_result",
          "data": {
            "text/plain": [
              "0.8751639129294518"
            ]
          },
          "metadata": {
            "tags": []
          },
          "execution_count": 29
        }
      ]
    },
    {
      "cell_type": "markdown",
      "metadata": {
        "id": "ptj-h0pwlkw_"
      },
      "source": [
        "### Bagging Decision Trees KNeighbor Classifier"
      ]
    },
    {
      "cell_type": "code",
      "metadata": {
        "colab": {
          "base_uri": "https://localhost:8080/"
        },
        "id": "QlNViDG5rVgJ",
        "outputId": "53f1b855-fc8d-4e76-9f3c-b00dfec33d6b"
      },
      "source": [
        "from sklearn.neighbors import KNeighborsClassifier\n",
        "\n",
        "bagging = BaggingClassifier(base_estimator= KNeighborsClassifier(), max_samples = 0.5, max_features = 0.5, \n",
        "                            bootstrap = False, bootstrap_features = False)\n",
        "\n",
        "bagging.fit(train_X, train_Y)\n",
        "bg_pred_diabetes = bagging.predict(test_X)\n",
        "\n",
        "bg_score = bagging.score(test_X, test_Y)\n",
        "bagging.score(test_X, test_Y)"
      ],
      "execution_count": null,
      "outputs": [
        {
          "output_type": "execute_result",
          "data": {
            "text/plain": [
              "0.8806713873590348"
            ]
          },
          "metadata": {
            "tags": []
          },
          "execution_count": 30
        }
      ]
    },
    {
      "cell_type": "markdown",
      "metadata": {
        "id": "XYHtHn5iv_Ny"
      },
      "source": [
        "### XGBoost"
      ]
    },
    {
      "cell_type": "code",
      "metadata": {
        "colab": {
          "base_uri": "https://localhost:8080/"
        },
        "id": "j2kQcnUBmbgK",
        "outputId": "1c8860e6-89bd-4a42-b7b7-63c1cf68f683"
      },
      "source": [
        "from sklearn.ensemble import GradientBoostingClassifier\n",
        "\n",
        "xgboost = GradientBoostingClassifier(random_state=0)\n",
        "xgboost.fit(train_X, train_Y)\n",
        "\n",
        "xgboost_score = xgboost.score(test_X, test_Y)\n",
        "xgboost_score"
      ],
      "execution_count": null,
      "outputs": [
        {
          "output_type": "execute_result",
          "data": {
            "text/plain": [
              "0.8730658274324679"
            ]
          },
          "metadata": {
            "tags": []
          },
          "execution_count": 32
        }
      ]
    },
    {
      "cell_type": "markdown",
      "metadata": {
        "id": "e1SypU-2l1LB"
      },
      "source": [
        "### MLP Classifier"
      ]
    },
    {
      "cell_type": "code",
      "metadata": {
        "colab": {
          "base_uri": "https://localhost:8080/"
        },
        "id": "JaSKOuXmrYFX",
        "outputId": "1aa28876-90ed-4048-c8cf-c71961ffe347"
      },
      "source": [
        "from sklearn.neural_network import MLPClassifier\n",
        "\n",
        "mlp = MLPClassifier(hidden_layer_sizes=(1000, 300, 300), solver='adam', shuffle=False, tol = 0.0001)\n",
        "\n",
        "mlp.fit(train_X, train_Y)\n",
        "mlp_pred_diabetes = mlp.predict(test_X)\n",
        "\n",
        "print(\"parameter: \", mlp.get_params())\n",
        "\n",
        "mlp_score = mlp.score(test_X, test_Y)\n",
        "mlp.score(test_X, test_Y)"
      ],
      "execution_count": null,
      "outputs": [
        {
          "output_type": "stream",
          "text": [
            "parameter:  {'activation': 'relu', 'alpha': 0.0001, 'batch_size': 'auto', 'beta_1': 0.9, 'beta_2': 0.999, 'early_stopping': False, 'epsilon': 1e-08, 'hidden_layer_sizes': (1000, 300, 300), 'learning_rate': 'constant', 'learning_rate_init': 0.001, 'max_fun': 15000, 'max_iter': 200, 'momentum': 0.9, 'n_iter_no_change': 10, 'nesterovs_momentum': True, 'power_t': 0.5, 'random_state': None, 'shuffle': False, 'solver': 'adam', 'tol': 0.0001, 'validation_fraction': 0.1, 'verbose': False, 'warm_start': False}\n"
          ],
          "name": "stdout"
        },
        {
          "output_type": "execute_result",
          "data": {
            "text/plain": [
              "0.8806713873590348"
            ]
          },
          "metadata": {
            "tags": []
          },
          "execution_count": 33
        }
      ]
    },
    {
      "cell_type": "code",
      "metadata": {
        "colab": {
          "base_uri": "https://localhost:8080/",
          "height": 402
        },
        "id": "ttoIX125wkBU",
        "outputId": "5ae24145-9145-4078-fca1-0adf1bb799b2"
      },
      "source": [
        "test_X"
      ],
      "execution_count": null,
      "outputs": [
        {
          "output_type": "execute_result",
          "data": {
            "text/html": [
              "<div>\n",
              "<style scoped>\n",
              "    .dataframe tbody tr th:only-of-type {\n",
              "        vertical-align: middle;\n",
              "    }\n",
              "\n",
              "    .dataframe tbody tr th {\n",
              "        vertical-align: top;\n",
              "    }\n",
              "\n",
              "    .dataframe thead th {\n",
              "        text-align: right;\n",
              "    }\n",
              "</style>\n",
              "<table border=\"1\" class=\"dataframe\">\n",
              "  <thead>\n",
              "    <tr style=\"text-align: right;\">\n",
              "      <th></th>\n",
              "      <th>ID</th>\n",
              "      <th>Gender</th>\n",
              "      <th>Years_in_US</th>\n",
              "      <th>Family_income</th>\n",
              "      <th>ArmCircum</th>\n",
              "      <th>SaggitalAbdominal</th>\n",
              "      <th>GripStrength</th>\n",
              "      <th>Breast_fed</th>\n",
              "    </tr>\n",
              "  </thead>\n",
              "  <tbody>\n",
              "    <tr>\n",
              "      <th>6000</th>\n",
              "      <td>79781</td>\n",
              "      <td>2</td>\n",
              "      <td>0.0</td>\n",
              "      <td>1.55</td>\n",
              "      <td>18.9</td>\n",
              "      <td>20.7</td>\n",
              "      <td>26.4</td>\n",
              "      <td>2.0</td>\n",
              "    </tr>\n",
              "    <tr>\n",
              "      <th>6001</th>\n",
              "      <td>79782</td>\n",
              "      <td>1</td>\n",
              "      <td>0.0</td>\n",
              "      <td>3.17</td>\n",
              "      <td>26.5</td>\n",
              "      <td>17.8</td>\n",
              "      <td>61.0</td>\n",
              "      <td>2.0</td>\n",
              "    </tr>\n",
              "    <tr>\n",
              "      <th>6002</th>\n",
              "      <td>79783</td>\n",
              "      <td>2</td>\n",
              "      <td>5.0</td>\n",
              "      <td>2.78</td>\n",
              "      <td>29.3</td>\n",
              "      <td>20.7</td>\n",
              "      <td>60.3</td>\n",
              "      <td>2.0</td>\n",
              "    </tr>\n",
              "    <tr>\n",
              "      <th>6003</th>\n",
              "      <td>79784</td>\n",
              "      <td>2</td>\n",
              "      <td>5.0</td>\n",
              "      <td>4.19</td>\n",
              "      <td>22.7</td>\n",
              "      <td>16.8</td>\n",
              "      <td>67.5</td>\n",
              "      <td>2.0</td>\n",
              "    </tr>\n",
              "    <tr>\n",
              "      <th>6004</th>\n",
              "      <td>79785</td>\n",
              "      <td>2</td>\n",
              "      <td>4.0</td>\n",
              "      <td>5.00</td>\n",
              "      <td>24.9</td>\n",
              "      <td>16.0</td>\n",
              "      <td>37.6</td>\n",
              "      <td>2.0</td>\n",
              "    </tr>\n",
              "    <tr>\n",
              "      <th>...</th>\n",
              "      <td>...</td>\n",
              "      <td>...</td>\n",
              "      <td>...</td>\n",
              "      <td>...</td>\n",
              "      <td>...</td>\n",
              "      <td>...</td>\n",
              "      <td>...</td>\n",
              "      <td>...</td>\n",
              "    </tr>\n",
              "    <tr>\n",
              "      <th>9808</th>\n",
              "      <td>83727</td>\n",
              "      <td>2</td>\n",
              "      <td>4.0</td>\n",
              "      <td>1.25</td>\n",
              "      <td>29.9</td>\n",
              "      <td>19.1</td>\n",
              "      <td>70.1</td>\n",
              "      <td>2.0</td>\n",
              "    </tr>\n",
              "    <tr>\n",
              "      <th>9809</th>\n",
              "      <td>83728</td>\n",
              "      <td>1</td>\n",
              "      <td>0.0</td>\n",
              "      <td>1.06</td>\n",
              "      <td>14.7</td>\n",
              "      <td>20.7</td>\n",
              "      <td>60.3</td>\n",
              "      <td>2.0</td>\n",
              "    </tr>\n",
              "    <tr>\n",
              "      <th>9810</th>\n",
              "      <td>83729</td>\n",
              "      <td>1</td>\n",
              "      <td>0.0</td>\n",
              "      <td>5.00</td>\n",
              "      <td>37.0</td>\n",
              "      <td>24.3</td>\n",
              "      <td>46.6</td>\n",
              "      <td>2.0</td>\n",
              "    </tr>\n",
              "    <tr>\n",
              "      <th>9811</th>\n",
              "      <td>83730</td>\n",
              "      <td>2</td>\n",
              "      <td>3.0</td>\n",
              "      <td>1.53</td>\n",
              "      <td>19.0</td>\n",
              "      <td>20.7</td>\n",
              "      <td>20.8</td>\n",
              "      <td>1.0</td>\n",
              "    </tr>\n",
              "    <tr>\n",
              "      <th>9812</th>\n",
              "      <td>83731</td>\n",
              "      <td>2</td>\n",
              "      <td>0.0</td>\n",
              "      <td>3.46</td>\n",
              "      <td>25.0</td>\n",
              "      <td>17.5</td>\n",
              "      <td>36.0</td>\n",
              "      <td>2.0</td>\n",
              "    </tr>\n",
              "  </tbody>\n",
              "</table>\n",
              "<p>3813 rows × 8 columns</p>\n",
              "</div>"
            ],
            "text/plain": [
              "         ID  Gender  Years_in_US  Family_income  ArmCircum  SaggitalAbdominal  \\\n",
              "6000  79781       2          0.0           1.55       18.9               20.7   \n",
              "6001  79782       1          0.0           3.17       26.5               17.8   \n",
              "6002  79783       2          5.0           2.78       29.3               20.7   \n",
              "6003  79784       2          5.0           4.19       22.7               16.8   \n",
              "6004  79785       2          4.0           5.00       24.9               16.0   \n",
              "...     ...     ...          ...            ...        ...                ...   \n",
              "9808  83727       2          4.0           1.25       29.9               19.1   \n",
              "9809  83728       1          0.0           1.06       14.7               20.7   \n",
              "9810  83729       1          0.0           5.00       37.0               24.3   \n",
              "9811  83730       2          3.0           1.53       19.0               20.7   \n",
              "9812  83731       2          0.0           3.46       25.0               17.5   \n",
              "\n",
              "      GripStrength  Breast_fed  \n",
              "6000          26.4         2.0  \n",
              "6001          61.0         2.0  \n",
              "6002          60.3         2.0  \n",
              "6003          67.5         2.0  \n",
              "6004          37.6         2.0  \n",
              "...            ...         ...  \n",
              "9808          70.1         2.0  \n",
              "9809          60.3         2.0  \n",
              "9810          46.6         2.0  \n",
              "9811          20.8         1.0  \n",
              "9812          36.0         2.0  \n",
              "\n",
              "[3813 rows x 8 columns]"
            ]
          },
          "metadata": {
            "tags": []
          },
          "execution_count": 34
        }
      ]
    },
    {
      "cell_type": "markdown",
      "metadata": {
        "id": "1h9JTEtXl70z"
      },
      "source": [
        "### Summarizing Performance of our Models"
      ]
    },
    {
      "cell_type": "code",
      "metadata": {
        "colab": {
          "base_uri": "https://localhost:8080/",
          "height": 225
        },
        "id": "CzjCOtvcraNH",
        "outputId": "588fe6d7-af78-4362-e327-468f51cddb65"
      },
      "source": [
        "d = {'Model': ['Linear Regression', 'Adaboost', 'Bagging_decision tree based', 'Bagging_KNeighbors', 'XGBoost', 'MLP'],\n",
        "     'accuracy' : [lr_score, ab_clf_score, bg_dt_score, bg_score, xgboost_score, mlp_score]}\n",
        "\n",
        "result_df = pd.DataFrame(data = d)\n",
        "result_df = result_df.sort_values(by=\"accuracy\", ascending=True)\n",
        "result_df"
      ],
      "execution_count": null,
      "outputs": [
        {
          "output_type": "execute_result",
          "data": {
            "text/html": [
              "<div>\n",
              "<style scoped>\n",
              "    .dataframe tbody tr th:only-of-type {\n",
              "        vertical-align: middle;\n",
              "    }\n",
              "\n",
              "    .dataframe tbody tr th {\n",
              "        vertical-align: top;\n",
              "    }\n",
              "\n",
              "    .dataframe thead th {\n",
              "        text-align: right;\n",
              "    }\n",
              "</style>\n",
              "<table border=\"1\" class=\"dataframe\">\n",
              "  <thead>\n",
              "    <tr style=\"text-align: right;\">\n",
              "      <th></th>\n",
              "      <th>Model</th>\n",
              "      <th>accuracy</th>\n",
              "    </tr>\n",
              "  </thead>\n",
              "  <tbody>\n",
              "    <tr>\n",
              "      <th>0</th>\n",
              "      <td>Linear Regression</td>\n",
              "      <td>0.120948</td>\n",
              "    </tr>\n",
              "    <tr>\n",
              "      <th>1</th>\n",
              "      <td>Adaboost</td>\n",
              "      <td>0.712300</td>\n",
              "    </tr>\n",
              "    <tr>\n",
              "      <th>4</th>\n",
              "      <td>XGBoost</td>\n",
              "      <td>0.873066</td>\n",
              "    </tr>\n",
              "    <tr>\n",
              "      <th>2</th>\n",
              "      <td>Bagging_decision tree based</td>\n",
              "      <td>0.875164</td>\n",
              "    </tr>\n",
              "    <tr>\n",
              "      <th>3</th>\n",
              "      <td>Bagging_KNeighbors</td>\n",
              "      <td>0.880671</td>\n",
              "    </tr>\n",
              "    <tr>\n",
              "      <th>5</th>\n",
              "      <td>MLP</td>\n",
              "      <td>0.880671</td>\n",
              "    </tr>\n",
              "  </tbody>\n",
              "</table>\n",
              "</div>"
            ],
            "text/plain": [
              "                         Model  accuracy\n",
              "0            Linear Regression  0.120948\n",
              "1                     Adaboost  0.712300\n",
              "4                      XGBoost  0.873066\n",
              "2  Bagging_decision tree based  0.875164\n",
              "3           Bagging_KNeighbors  0.880671\n",
              "5                          MLP  0.880671"
            ]
          },
          "metadata": {
            "tags": []
          },
          "execution_count": 35
        }
      ]
    },
    {
      "cell_type": "code",
      "metadata": {
        "colab": {
          "base_uri": "https://localhost:8080/",
          "height": 664
        },
        "id": "J3ZQiXyis5bR",
        "outputId": "b0c8cfb5-a137-4277-f92e-03304e6f878c"
      },
      "source": [
        "result_df.plot(x='Model', y='accuracy', kind='bar', figsize=(8, 8), title='Diabetes Prediction Accuracy', \n",
        "               sort_columns=True);"
      ],
      "execution_count": null,
      "outputs": [
        {
          "output_type": "display_data",
          "data": {
            "image/png": "[encoded data removed]",
            "text/plain": [
              "<Figure size 576x576 with 1 Axes>"
            ]
          },
          "metadata": {
            "tags": [],
            "needs_background": "light"
          }
        }
      ]
    }
  ]
}